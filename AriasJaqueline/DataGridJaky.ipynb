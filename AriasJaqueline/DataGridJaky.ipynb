{
 "cells": [
  {
   "cell_type": "code",
   "execution_count": 2,
   "metadata": {},
   "outputs": [],
   "source": [
    "import pandas as pd"
   ]
  },
  {
   "cell_type": "code",
   "execution_count": 6,
   "metadata": {},
   "outputs": [
    {
     "data": {
      "text/html": [
       "<div>\n",
       "<style scoped>\n",
       "    .dataframe tbody tr th:only-of-type {\n",
       "        vertical-align: middle;\n",
       "    }\n",
       "\n",
       "    .dataframe tbody tr th {\n",
       "        vertical-align: top;\n",
       "    }\n",
       "\n",
       "    .dataframe thead th {\n",
       "        text-align: right;\n",
       "    }\n",
       "</style>\n",
       "<table border=\"1\" class=\"dataframe\">\n",
       "  <thead>\n",
       "    <tr style=\"text-align: right;\">\n",
       "      <th></th>\n",
       "      <th>Name</th>\n",
       "      <th>Lastname</th>\n",
       "      <th>Age</th>\n",
       "      <th>Sex</th>\n",
       "      <th>Vegetariano</th>\n",
       "      <th>Altezza</th>\n",
       "    </tr>\n",
       "  </thead>\n",
       "  <tbody>\n",
       "    <tr>\n",
       "      <th>0</th>\n",
       "      <td>Jaqueline</td>\n",
       "      <td>Arias</td>\n",
       "      <td>35</td>\n",
       "      <td>Female</td>\n",
       "      <td>True</td>\n",
       "      <td>1.6</td>\n",
       "    </tr>\n",
       "    <tr>\n",
       "      <th>1</th>\n",
       "      <td>Teddy</td>\n",
       "      <td>Cordova</td>\n",
       "      <td>36</td>\n",
       "      <td>Male</td>\n",
       "      <td>False</td>\n",
       "      <td>1.7</td>\n",
       "    </tr>\n",
       "    <tr>\n",
       "      <th>2</th>\n",
       "      <td>Jheymy</td>\n",
       "      <td>Angles</td>\n",
       "      <td>41</td>\n",
       "      <td>Female</td>\n",
       "      <td>True</td>\n",
       "      <td>1.65</td>\n",
       "    </tr>\n",
       "    <tr>\n",
       "      <th>3</th>\n",
       "      <td>Carla</td>\n",
       "      <td>Prado</td>\n",
       "      <td>33</td>\n",
       "      <td>Female</td>\n",
       "      <td>False</td>\n",
       "      <td>1.66</td>\n",
       "    </tr>\n",
       "    <tr>\n",
       "      <th>4</th>\n",
       "      <td>Esther</td>\n",
       "      <td>Munoz</td>\n",
       "      <td>62</td>\n",
       "      <td>Female</td>\n",
       "      <td>False</td>\n",
       "      <td>1.55</td>\n",
       "    </tr>\n",
       "    <tr>\n",
       "      <th>5</th>\n",
       "      <td>Ramiro</td>\n",
       "      <td>Prince</td>\n",
       "      <td>65</td>\n",
       "      <td>Male</td>\n",
       "      <td>True</td>\n",
       "      <td>1.73</td>\n",
       "    </tr>\n",
       "    <tr>\n",
       "      <th>6</th>\n",
       "      <td>Nivardo</td>\n",
       "      <td>Bolivar</td>\n",
       "      <td>44</td>\n",
       "      <td>Male</td>\n",
       "      <td>True</td>\n",
       "      <td>Molto alto</td>\n",
       "    </tr>\n",
       "  </tbody>\n",
       "</table>\n",
       "</div>"
      ],
      "text/plain": [
       "        Name Lastname  Age      Sex  Vegetariano     Altezza\n",
       "0  Jaqueline    Arias   35   Female         True         1.6\n",
       "1      Teddy  Cordova   36     Male        False         1.7\n",
       "2     Jheymy   Angles   41   Female         True        1.65\n",
       "3      Carla    Prado   33   Female        False        1.66\n",
       "4     Esther    Munoz   62   Female        False        1.55\n",
       "5     Ramiro   Prince   65     Male         True        1.73\n",
       "6    Nivardo  Bolivar   44     Male         True  Molto alto"
      ]
     },
     "execution_count": 6,
     "metadata": {},
     "output_type": "execute_result"
    }
   ],
   "source": [
    "data = pd.DataFrame ({\n",
    "    \n",
    "    \"Name\": [\"Jaqueline\",\"Teddy\",\"Jheymy\",\"Carla\",\"Esther\", \"Ramiro\", \"Nivardo\"], \n",
    "    \"Lastname\": [\"Arias\", \"Cordova\", \"Angles\", \"Prado\", \"Munoz\", \"Prince\", \"Bolivar\"], \n",
    "    \"Age\": [35,36,41,33,62,65,44], \n",
    "    \"Sex\": [\"Female\", \"Male\", \" Female\",\"Female\", \"Female\", \"Male\", \"Male\"], \n",
    "    \"Vegetariano\": [True, False, True, False, False, True, True ],\n",
    "    \"Altezza\":[1.60, 1.70, 1.65, 1.66, 1.55, 1.73, \"Molto alto\"]\n",
    "})\n",
    "data"
   ]
  },
  {
   "cell_type": "code",
   "execution_count": 7,
   "metadata": {},
   "outputs": [
    {
     "data": {
      "text/plain": [
       "0           1.6\n",
       "1           1.7\n",
       "2          1.65\n",
       "3          1.66\n",
       "4          1.55\n",
       "5          1.73\n",
       "6    Molto alto\n",
       "Name: Altezza, dtype: object"
      ]
     },
     "execution_count": 7,
     "metadata": {},
     "output_type": "execute_result"
    }
   ],
   "source": [
    "data [\"Altezza\"]"
   ]
  },
  {
   "cell_type": "code",
   "execution_count": null,
   "metadata": {},
   "outputs": [],
   "source": []
  }
 ],
 "metadata": {
  "kernelspec": {
   "display_name": "Python 3",
   "language": "python",
   "name": "python3"
  },
  "language_info": {
   "codemirror_mode": {
    "name": "ipython",
    "version": 3
   },
   "file_extension": ".py",
   "mimetype": "text/x-python",
   "name": "python",
   "nbconvert_exporter": "python",
   "pygments_lexer": "ipython3",
   "version": "3.7.6"
  }
 },
 "nbformat": 4,
 "nbformat_minor": 4
}
