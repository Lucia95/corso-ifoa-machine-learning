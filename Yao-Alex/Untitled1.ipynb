{
 "cells": [
  {
   "cell_type": "code",
   "execution_count": 2,
   "metadata": {},
   "outputs": [],
   "source": [
    "import pandas as pd"
   ]
  },
  {
   "cell_type": "code",
   "execution_count": 10,
   "metadata": {},
   "outputs": [
    {
     "data": {
      "text/html": [
       "<div>\n",
       "<style scoped>\n",
       "    .dataframe tbody tr th:only-of-type {\n",
       "        vertical-align: middle;\n",
       "    }\n",
       "\n",
       "    .dataframe tbody tr th {\n",
       "        vertical-align: top;\n",
       "    }\n",
       "\n",
       "    .dataframe thead th {\n",
       "        text-align: right;\n",
       "    }\n",
       "</style>\n",
       "<table border=\"1\" class=\"dataframe\">\n",
       "  <thead>\n",
       "    <tr style=\"text-align: right;\">\n",
       "      <th></th>\n",
       "      <th>Name</th>\n",
       "      <th>Teams</th>\n",
       "      <th>Birth_Place</th>\n",
       "      <th>Career Points</th>\n",
       "    </tr>\n",
       "  </thead>\n",
       "  <tbody>\n",
       "    <tr>\n",
       "      <th>0</th>\n",
       "      <td>Jordan, Micheal</td>\n",
       "      <td>Chicago Bulls</td>\n",
       "      <td>Brooklyn, USA</td>\n",
       "      <td>32.292</td>\n",
       "    </tr>\n",
       "    <tr>\n",
       "      <th>1</th>\n",
       "      <td>Bryant, Kobe</td>\n",
       "      <td>L.A. Lakers</td>\n",
       "      <td>Philadelphia, USA</td>\n",
       "      <td>33.643</td>\n",
       "    </tr>\n",
       "    <tr>\n",
       "      <th>2</th>\n",
       "      <td>James, Lebron</td>\n",
       "      <td>L.A. Lakers</td>\n",
       "      <td>Akron, USA</td>\n",
       "      <td>34.241</td>\n",
       "    </tr>\n",
       "    <tr>\n",
       "      <th>3</th>\n",
       "      <td>Irving, Kyrie</td>\n",
       "      <td>Brooklyn Nets</td>\n",
       "      <td>Melbourne, AUS</td>\n",
       "      <td>9.238</td>\n",
       "    </tr>\n",
       "    <tr>\n",
       "      <th>4</th>\n",
       "      <td>Curry, Steph</td>\n",
       "      <td>Golden State Warriors</td>\n",
       "      <td>Akron, USA</td>\n",
       "      <td>16.323</td>\n",
       "    </tr>\n",
       "  </tbody>\n",
       "</table>\n",
       "</div>"
      ],
      "text/plain": [
       "              Name                  Teams        Birth_Place  Career Points\n",
       "0  Jordan, Micheal          Chicago Bulls      Brooklyn, USA         32.292\n",
       "1     Bryant, Kobe            L.A. Lakers  Philadelphia, USA         33.643\n",
       "2    James, Lebron            L.A. Lakers         Akron, USA         34.241\n",
       "3    Irving, Kyrie          Brooklyn Nets     Melbourne, AUS          9.238\n",
       "4     Curry, Steph  Golden State Warriors         Akron, USA         16.323"
      ]
     },
     "execution_count": 10,
     "metadata": {},
     "output_type": "execute_result"
    }
   ],
   "source": [
    "data = pd.DataFrame({\n",
    "    \"Name\": [\"Jordan, Micheal\",\n",
    "             \"Bryant, Kobe\",\n",
    "             \"James, Lebron\",\n",
    "             \"Irving, Kyrie\",\n",
    "             \"Curry, Steph\"\n",
    "    ],\n",
    "    \n",
    "    \"Teams\" : [\"Chicago Bulls\",\n",
    "               \"L.A. Lakers\",\n",
    "               \"L.A. Lakers\",\n",
    "               \"Brooklyn Nets\",\n",
    "               \"Golden State Warriors\"\n",
    "        \n",
    "    ],\n",
    "    \n",
    "    \"Birth_Place\" : [\"Brooklyn, USA\",\n",
    "                     \"Philadelphia, USA\",\n",
    "                     \"Akron, USA\",\n",
    "                     \"Melbourne, AUS\",\n",
    "                     \"Akron, USA\"\n",
    "                    \n",
    "                    ],\n",
    "    \n",
    "    \"Career Points\" : [32.292,33.643,34.241,9.238,16.323]\n",
    "    \n",
    "})\n",
    "\n",
    "data"
   ]
  },
  {
   "cell_type": "code",
   "execution_count": 12,
   "metadata": {},
   "outputs": [
    {
     "ename": "SyntaxError",
     "evalue": "invalid syntax (<ipython-input-12-2c1b891910b9>, line 1)",
     "output_type": "error",
     "traceback": [
      "\u001b[0;36m  File \u001b[0;32m\"<ipython-input-12-2c1b891910b9>\"\u001b[0;36m, line \u001b[0;32m1\u001b[0m\n\u001b[0;31m    print(Career Points)\u001b[0m\n\u001b[0m                 ^\u001b[0m\n\u001b[0;31mSyntaxError\u001b[0m\u001b[0;31m:\u001b[0m invalid syntax\n"
     ]
    }
   ],
   "source": [
    " "
   ]
  },
  {
   "cell_type": "code",
   "execution_count": null,
   "metadata": {},
   "outputs": [],
   "source": []
  }
 ],
 "metadata": {
  "kernelspec": {
   "display_name": "Python 3",
   "language": "python",
   "name": "python3"
  },
  "language_info": {
   "codemirror_mode": {
    "name": "ipython",
    "version": 3
   },
   "file_extension": ".py",
   "mimetype": "text/x-python",
   "name": "python",
   "nbconvert_exporter": "python",
   "pygments_lexer": "ipython3",
   "version": "3.8.3"
  }
 },
 "nbformat": 4,
 "nbformat_minor": 4
}
